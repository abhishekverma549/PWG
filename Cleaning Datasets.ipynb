{
 "cells": [
  {
   "cell_type": "code",
   "execution_count": 1,
   "metadata": {},
   "outputs": [],
   "source": [
    "import pandas as pd\n",
    "import numpy as np"
   ]
  },
  {
   "cell_type": "code",
   "execution_count": 2,
   "metadata": {},
   "outputs": [],
   "source": [
    "# Importing datasets\n",
    "def import_data(file_name):\n",
    "    df = pd.read_excel('./Dataset/Raw Dataset/{}'.format(file_name),  error_bad_lines = False)\n",
    "    return df\n",
    "\n",
    "# Convert series into one coumn\n",
    "def manage_columns(file_name):\n",
    "    df = import_data(file_name)\n",
    "    df = df.melt(id_vars=[\"Country Name\", \"Country Code\",\"Series Name\",\"Series Code\"], var_name='Year', value_name='Value')\n",
    "    return df\n",
    "\n",
    "# Managing year column\n",
    "def split_year(file_name):\n",
    "    df = manage_columns(file_name)\n",
    "    df['Year'] = df['Year'].str.split(' ').str[0]\n",
    "    return df\n",
    "\n",
    "# Remove Nan \n",
    "def remove_nan(file_name):\n",
    "    df = split_year(file_name)\n",
    "    df = df[df['Value']!='..']\n",
    "    df.dropna(inplace = True)\n",
    "    return df\n",
    "\n",
    "# Save cleaned dataset\n",
    "def save_file(New_file_name):\n",
    "    df.to_excel('./Dataset/Cleaned dataset/{}'.format(New_file_name), index = False)\n",
    "    print(len(df))"
   ]
  },
  {
   "cell_type": "code",
   "execution_count": 4,
   "metadata": {},
   "outputs": [
    {
     "name": "stdout",
     "output_type": "stream",
     "text": [
      "1261\n"
     ]
    }
   ],
   "source": [
    "df = remove_nan(\"Raw Data.xlsx\")\n",
    "save_file(\"Cleaned_Data.xlsx\")"
   ]
  },
  {
   "cell_type": "code",
   "execution_count": 24,
   "metadata": {},
   "outputs": [],
   "source": []
  }
 ],
 "metadata": {
  "kernelspec": {
   "display_name": "Python 3",
   "language": "python",
   "name": "python3"
  },
  "language_info": {
   "codemirror_mode": {
    "name": "ipython",
    "version": 3
   },
   "file_extension": ".py",
   "mimetype": "text/x-python",
   "name": "python",
   "nbconvert_exporter": "python",
   "pygments_lexer": "ipython3",
   "version": "3.7.6"
  }
 },
 "nbformat": 4,
 "nbformat_minor": 4
}
