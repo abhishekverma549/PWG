{
 "cells": [
  {
   "cell_type": "code",
   "execution_count": 9,
   "metadata": {},
   "outputs": [],
   "source": [
    "import pandas as pd\n",
    "import numpy as np\n",
    "from matplotlib import pyplot as plt\n",
    "from ipywidgets import widgets, interactive\n",
    "import warnings\n",
    "warnings.filterwarnings('ignore')"
   ]
  },
  {
   "cell_type": "code",
   "execution_count": 10,
   "metadata": {},
   "outputs": [],
   "source": [
    "elec_df = pd.read_excel('.\\Dataset\\Cleaned dataset\\Electricity.xlsx')\n",
    "elec_df['Year'] = elec_df['Year'].astype(int)"
   ]
  },
  {
   "cell_type": "code",
   "execution_count": 11,
   "metadata": {},
   "outputs": [],
   "source": [
    "def creating_dropdowns(df):\n",
    "    \"\"\"\n",
    "    This functions is used to create drop downs for charts\n",
    "    Drop downs helps for real time interactivity\n",
    "    \n",
    "    \"\"\"\n",
    "    \n",
    "    col_name = \"Year\" if 'Year' in df else \"current_year\"\n",
    "    col_name2 = \"series_name_2\" if \"series_name_2\" in df else \"Series Name\"\n",
    "    start_year = widgets.BoundedFloatText(\n",
    "                value=int(df[col_name].min()),\n",
    "                min=int(df[col_name].min()),\n",
    "                max=int(df[col_name].max()),\n",
    "                step=1,\n",
    "                description='Start Year:',\n",
    "                disabled=False,\n",
    "                color='black'\n",
    "                )\n",
    "\n",
    "    end_year = widgets.BoundedFloatText(\n",
    "                value=int(df[col_name].max()),\n",
    "                min=int(df[col_name].min()),\n",
    "                max=int(df[col_name].max()),\n",
    "                step=1,\n",
    "                description='End Year:',\n",
    "                disabled=False,\n",
    "                color='black'\n",
    "            )\n",
    "    series_lst =list(df[col_name2].unique())\n",
    "    series_name = widgets.Dropdown(\n",
    "                options=series_lst,\n",
    "                value=series_lst[0],\n",
    "                description='Data Type:'\n",
    "    )\n",
    "    country_lst =list(df['Country Name'].unique())\n",
    "    country = widgets.Dropdown(\n",
    "                options=country_lst,\n",
    "                value=country_lst[0],\n",
    "                description='Country:'\n",
    "    )\n",
    "    return start_year,end_year,series_name,country\n",
    "\n",
    "def plot_chart_with_country(start_year,end_year,series_name,country):\n",
    "    \"\"\"\n",
    "    \n",
    "    Simple Bar Chart For Different Countries \n",
    "    X_axis = Year\n",
    "    Y_axis = Value\n",
    "    \n",
    "    \"\"\"\n",
    "    \n",
    "    df = elec_df[(elec_df['Year'] >= start_year) & (elec_df['Year'] <= end_year)]\n",
    "    df = df[(df['Series Name']==series_name) & (df['Country Name']==country)]\n",
    "    if not df.empty:\n",
    "        df.plot(x ='Year', y='Value',kind='bar', stacked=True, title='{} of {}'.format(series_name,country),figsize=(10,5))\n",
    "        plt.show()\n",
    "    else:\n",
    "        print(\"empty dataframe\")"
   ]
  },
  {
   "cell_type": "code",
   "execution_count": 12,
   "metadata": {},
   "outputs": [
    {
     "data": {
      "application/vnd.jupyter.widget-view+json": {
       "model_id": "b9ff2586a9e9408a9e5f487a1ba18768",
       "version_major": 2,
       "version_minor": 0
      },
      "text/plain": [
       "interactive(children=(BoundedFloatText(value=2010.0, description='Start Year:', max=2019.0, min=2010.0, step=1…"
      ]
     },
     "metadata": {},
     "output_type": "display_data"
    }
   ],
   "source": [
    "start_year,end_year,series_name,country = creating_dropdowns(elec_df)\n",
    "\n",
    "interactive(plot_chart_with_country,start_year=start_year ,end_year=end_year ,series_name = series_name,country=country)"
   ]
  },
  {
   "cell_type": "code",
   "execution_count": null,
   "metadata": {},
   "outputs": [],
   "source": []
  }
 ],
 "metadata": {
  "kernelspec": {
   "display_name": "Python 3",
   "language": "python",
   "name": "python3"
  },
  "language_info": {
   "codemirror_mode": {
    "name": "ipython",
    "version": 3
   },
   "file_extension": ".py",
   "mimetype": "text/x-python",
   "name": "python",
   "nbconvert_exporter": "python",
   "pygments_lexer": "ipython3",
   "version": "3.7.6"
  }
 },
 "nbformat": 4,
 "nbformat_minor": 4
}
