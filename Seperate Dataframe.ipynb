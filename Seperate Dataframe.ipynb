{
 "cells": [
  {
   "cell_type": "code",
   "execution_count": 27,
   "metadata": {},
   "outputs": [],
   "source": [
    "import pandas as pd\n",
    "import numpy as np"
   ]
  },
  {
   "cell_type": "code",
   "execution_count": 28,
   "metadata": {},
   "outputs": [],
   "source": [
    "def import_cleaned_dataset(filename):\n",
    "    df = pd.read_excel('./Dataset/Cleaned dataset/{}'.format(filename))\n",
    "    return df"
   ]
  },
  {
   "cell_type": "code",
   "execution_count": 29,
   "metadata": {},
   "outputs": [],
   "source": [
    "def electricity_dataset(filename):\n",
    "    df = import_cleaned_dataset(filename)\n",
    "    elec_df = df[df['Series Name'].isin(values = ['Access to electricity (% of population)',\n",
    "       'Access to electricity, rural (% of rural population)',\n",
    "       'Access to electricity, urban (% of urban population)',\n",
    "       'CO2 emissions from electricity and heat production, total (% of total fuel combustion)',\n",
    "       'Electricity production from coal sources (% of total)',\n",
    "       'Electricity production from hydroelectric sources (% of total)',\n",
    "       'Electricity production from natural gas sources (% of total)',\n",
    "       'Electricity production from nuclear sources (% of total)',\n",
    "       'Electricity production from oil sources (% of total)',\n",
    "       'Electricity production from oil, gas and coal sources (% of total)',\n",
    "       'Electricity production from renewable sources, excluding hydroelectric (% of total)',\n",
    "       'Electricity production from renewable sources, excluding hydroelectric (kWh)',\n",
    "       'Renewable electricity output (% of total electricity output)','Time required to get electricity (days)'])]\n",
    "    elec_df.to_excel('./Dataset/Cleaned dataset/Electricity.xlsx', index = False)\n",
    "\n",
    "def population_dataset(filename):\n",
    "    df = import_cleaned_dataset(filename)\n",
    "    pop_df = df[df['Series Name'].isin(values = ['Rural population', 'Rural population (% of total population)',\n",
    "       'Rural population growth (annual %)', 'Urban population',\n",
    "       'Urban population (% of total population)',\n",
    "       'Urban population growth (annual %)',\n",
    "       'Population in the largest city (% of urban population)',\n",
    "       'Access to clean fuels and technologies for cooking (% of population)',\n",
    "       'Age dependency ratio (% of working-age population)',\n",
    "       'Age dependency ratio, old (% of working-age population)',\n",
    "       'Age dependency ratio, young (% of working-age population)',\n",
    "       'Incidence of malaria (per 1,000 population at risk)',\n",
    "       'Individuals using the Internet (% of population)',\n",
    "       'International migrant stock (% of population)',\n",
    "       'Labor force participation rate, female (% of female population ages 15+) (modeled ILO estimate)',\n",
    "       'People using at least basic drinking water services (% of population)',\n",
    "       'People using at least basic drinking water services, rural (% of rural population)',\n",
    "       'People using at least basic drinking water services, urban (% of urban population)',\n",
    "       'Population growth (annual %)', 'Population in largest city',\n",
    "       'Population density (people per sq. km of land area)',\n",
    "       'Population, female', 'Population, male',\n",
    "       'Population, female (% of total population)',\n",
    "       'Population, male (% of total population)', 'Population, total',\n",
    "       'Suicide mortality rate (per 100,000 population)',\n",
    "       'Suicide mortality rate, female (per 100,000 female population)',\n",
    "       'Suicide mortality rate, male (per 100,000 male population)','Incidence of HIV (per 1,000 uninfected population ages 15-49)',\n",
    "       'Population living in slums (% of urban population)'])]\n",
    "    pop_df.to_excel('./Dataset/Cleaned dataset/Population.xlsx', index = False)\n",
    "\n",
    "def vulnerable_employment(filename):\n",
    "    df = import_cleaned_dataset(filename)\n",
    "    emp_df = df[df['Series Name'].isin(values = ['Vulnerable employment, female (% of female employment) (modeled ILO estimate)',\n",
    "       'Vulnerable employment, male (% of male employment) (modeled ILO estimate)',\n",
    "       'Vulnerable employment, total (% of total employment) (modeled ILO estimate)'])]\n",
    "    emp_df.to_excel('./Dataset/Cleaned dataset/Vunerable_Employment.xlsx', index = False)"
   ]
  },
  {
   "cell_type": "code",
   "execution_count": 30,
   "metadata": {},
   "outputs": [],
   "source": [
    "electricity_dataset('Cleaned_Data.xlsx')\n",
    "population_dataset('Cleaned_Data.xlsx')\n",
    "vulnerable_employment('Cleaned_Data.xlsx')"
   ]
  }
 ],
 "metadata": {
  "kernelspec": {
   "display_name": "Python 3",
   "language": "python",
   "name": "python3"
  },
  "language_info": {
   "codemirror_mode": {
    "name": "ipython",
    "version": 3
   },
   "file_extension": ".py",
   "mimetype": "text/x-python",
   "name": "python",
   "nbconvert_exporter": "python",
   "pygments_lexer": "ipython3",
   "version": "3.7.6"
  }
 },
 "nbformat": 4,
 "nbformat_minor": 4
}
